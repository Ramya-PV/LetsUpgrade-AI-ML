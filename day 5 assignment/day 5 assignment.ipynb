{
 "cells": [
  {
   "cell_type": "markdown",
   "metadata": {},
   "source": [
    "# Question 1"
   ]
  },
  {
   "cell_type": "code",
   "execution_count": 60,
   "metadata": {},
   "outputs": [
    {
     "name": "stdout",
     "output_type": "stream",
     "text": [
      "Prime numbers between 1 and 21 are:\n",
      "2\n",
      "3\n",
      "5\n",
      "7\n",
      "11\n",
      "13\n",
      "17\n",
      "19\n"
     ]
    }
   ],
   "source": [
    "\n",
    "\n",
    "lower = 1\n",
    "upper = 21\n",
    "\n",
    "print(\"Prime numbers between\", lower, \"and\", upper, \"are:\")\n",
    "\n",
    "for num in range(lower, upper - 1):\n",
    " \n",
    "   if num > 1:\n",
    "       for i in range(2, num):\n",
    "           if (num % i) == 0:\n",
    "             break \n",
    "             \n",
    "       else:\n",
    "              print(num)"
   ]
  },
  {
   "cell_type": "markdown",
   "metadata": {},
   "source": [
    "# Question 2 "
   ]
  },
  {
   "cell_type": "code",
   "execution_count": 4,
   "metadata": {},
   "outputs": [
    {
     "name": "stdout",
     "output_type": "stream",
     "text": [
      "Hey everyone lets upgrade\n",
      "False\n",
      "16\n",
      "hey everyone lets upgrade\n",
      "False\n",
      "hey everyone lets upgrade\n",
      "13\n",
      "False\n",
      "True\n",
      "False\n"
     ]
    }
   ],
   "source": [
    "s=\"hey everyone lets upgrade\"\n",
    "print(s.capitalize())\n",
    "print(s.endswith(\"o\"))\n",
    "print(s.find(\"s\"))\n",
    "print(s.center(8))\n",
    "print(s.isalpha())\n",
    "print(s.format(14))\n",
    "print(s.index(\"l\"))\n",
    "print(s.isnumeric())\n",
    "print(s.isascii())\n",
    "print(s.isdigit())"
   ]
  },
  {
   "cell_type": "markdown",
   "metadata": {},
   "source": [
    "# Question 3"
   ]
  },
  {
   "cell_type": "code",
   "execution_count": 61,
   "metadata": {},
   "outputs": [
    {
     "name": "stdout",
     "output_type": "stream",
     "text": [
      "enter a string=hello\n",
      "emter a string=madam\n",
      "neither palindrome nor anangram\n"
     ]
    }
   ],
   "source": [
    "a=input(\"enter a string=\")\n",
    "b=input(\"emter a string=\")\n",
    "if(b[::-1]==a):\n",
    "    print(\"string is a palindrome\")\n",
    "elif(sorted(b)==sorted(a)):\n",
    "    print(\"string is an anangram\")\n",
    "else:\n",
    "    print(\"neither palindrome nor anangram\")"
   ]
  },
  {
   "cell_type": "markdown",
   "metadata": {},
   "source": [
    "# Question 4"
   ]
  },
  {
   "cell_type": "code",
   "execution_count": 3,
   "metadata": {},
   "outputs": [
    {
     "name": "stdout",
     "output_type": "stream",
     "text": [
      "Dr. Darshan Ingle @AI-ML Trainer\n",
      "drdarshaningleaimltrainer"
     ]
    }
   ],
   "source": [
    "s=input()\n",
    "s=s.lower()\n",
    "for i in s:\n",
    "    if i.isdigit() or (ord(i)>=96 and ord(i)<=122):\n",
    "        print(i,end=\"\")"
   ]
  },
  {
   "cell_type": "code",
   "execution_count": null,
   "metadata": {},
   "outputs": [],
   "source": []
  },
  {
   "cell_type": "code",
   "execution_count": null,
   "metadata": {},
   "outputs": [],
   "source": []
  }
 ],
 "metadata": {
  "kernelspec": {
   "display_name": "Python 3",
   "language": "python",
   "name": "python3"
  },
  "language_info": {
   "codemirror_mode": {
    "name": "ipython",
    "version": 3
   },
   "file_extension": ".py",
   "mimetype": "text/x-python",
   "name": "python",
   "nbconvert_exporter": "python",
   "pygments_lexer": "ipython3",
   "version": "3.7.6"
  }
 },
 "nbformat": 4,
 "nbformat_minor": 4
}
